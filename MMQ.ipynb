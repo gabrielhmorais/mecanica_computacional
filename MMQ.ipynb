{
 "cells": [
  {
   "cell_type": "markdown",
   "metadata": {},
   "source": [
    "# Método dos Míninos Quadrados"
   ]
  },
  {
   "cell_type": "code",
   "execution_count": null,
   "metadata": {},
   "outputs": [],
   "source": [
    "# ⚠️ Se der erro de importação, fazer um pip install pra instalar a biblioteca no kernel no notebook\n",
    "import matplotlib.pyplot as plt\n",
    "import sympy as sp\n",
    "import numpy as np\n",
    "\n",
    "x = sp.symbols('x')"
   ]
  },
  {
   "cell_type": "markdown",
   "metadata": {},
   "source": [
    "### ✏️ Células editáveis"
   ]
  },
  {
   "cell_type": "code",
   "execution_count": null,
   "metadata": {},
   "outputs": [],
   "source": [
    "# 🏷️ Inserir variáveis independentes dos dados que serão ajustados\n",
    "x_dados = np.array(range(3, 14, 2))\n",
    "\n",
    "# 🏷️ Inserir variáveis dependentes dos dados que serão ajustados\n",
    "y_dados = np.array([20, 69, 110, 115, 14, 29])\n",
    "\n",
    "# 🏷️ Inserir as funções de base (monômios da função a ser ajustada)\n",
    "# Para inserir uma constante:c*x**0\n",
    "funcoes_base = np.array([x**0, sp.cos(sp.pi/6 * (x-7))])"
   ]
  },
  {
   "cell_type": "markdown",
   "metadata": {},
   "source": [
    "### 🧮 Cálculos"
   ]
  },
  {
   "cell_type": "code",
   "execution_count": null,
   "metadata": {},
   "outputs": [],
   "source": [
    "# Quantidade de pontos:\n",
    "L = x_dados.size\n",
    "\n",
    "# Quantidade de incógnitas\n",
    "k = funcoes_base.size\n",
    "\n",
    "# Condição de ajustar uma curva via MMQ\n",
    "if L > k:\n",
    "    print(\"O sistema é sobredeterminado. É possível usar o Método dos Mínimos Quadrados.\")\n",
    "else:\n",
    "    print(\"O sistema não é sobredeterminado.\")"
   ]
  },
  {
   "cell_type": "code",
   "execution_count": null,
   "metadata": {},
   "outputs": [],
   "source": [
    "# Montagem da matriz A dos valores calculados das funções de base nos valores das variáveis independentes\n",
    "A = sp.zeros(L, k)\n",
    "\n",
    "for i in range(L):\n",
    "    for j in range(k):\n",
    "        aij = funcoes_base[j].subs(x, x_dados[i])\n",
    "        A[i,j] = aij\n",
    "\n",
    "print('Matriz A')\n",
    "A"
   ]
  },
  {
   "cell_type": "code",
   "execution_count": null,
   "metadata": {},
   "outputs": [],
   "source": [
    "# Matriz A transposta\n",
    "print('Matriz A.T (A transposta)')\n",
    "A.transpose()"
   ]
  },
  {
   "cell_type": "code",
   "execution_count": null,
   "metadata": {},
   "outputs": [],
   "source": [
    "# Matriz A transposta multiplicada pela matriz A\n",
    "print('Matriz A.T @ A')\n",
    "ATA = A.transpose() * A\n",
    "ATA"
   ]
  },
  {
   "cell_type": "code",
   "execution_count": null,
   "metadata": {},
   "outputs": [],
   "source": [
    "# Matriz A transposta multiplicada por y_dados\n",
    "print('Matriz A.T @ y')\n",
    "ATy = A.transpose() * sp.Matrix(y_dados)\n",
    "ATy"
   ]
  },
  {
   "cell_type": "markdown",
   "metadata": {},
   "source": [
    "### 📊 Resultados"
   ]
  },
  {
   "cell_type": "code",
   "execution_count": null,
   "metadata": {},
   "outputs": [],
   "source": [
    "# Resolução do sistema usando MMQ\n",
    "ATA_, ATy_ = np.array(ATA).astype(np.float64), np.array(ATy).astype(np.float64)\n",
    "c = np.asarray((np.linalg.lstsq(ATA_, ATy_, rcond=None)[0])).reshape(-1)\n",
    "\n",
    "print('Vetor das constantes desconhecidas')\n",
    "sp.Matrix(c)"
   ]
  },
  {
   "cell_type": "code",
   "execution_count": null,
   "metadata": {},
   "outputs": [],
   "source": [
    "# Plotagem dos resultados\n",
    "x_ = np.linspace(x_dados.min(), x_dados.max(), 100)\n",
    "f = sp.lambdify(x, np.sum(c.T*funcoes_base))\n",
    "\n",
    "plt.scatter(x_dados, y_dados, s=20, c='black', label=\"Dados da tabela\", zorder=3)\n",
    "plt.plot(x_, f(x_), c='blue', label=\"Função ajustada\", zorder=3)\n",
    "plt.grid(True, color = 'lightgrey', linewidth = '0.5', zorder=0)\n",
    "\n",
    "plt.xlabel(\"$x$\")\n",
    "plt.ylabel(\"$y$\")\n",
    "\n",
    "plt.legend()"
   ]
  },
  {
   "cell_type": "code",
   "execution_count": null,
   "metadata": {},
   "outputs": [],
   "source": [
    "# Cálculo dos resíduos\n",
    "r = y_dados - np.array(A).astype(np.float64) @ c\n",
    "print('Vetor dos resíduos')\n",
    "sp.Matrix(r)"
   ]
  },
  {
   "cell_type": "code",
   "execution_count": null,
   "metadata": {},
   "outputs": [],
   "source": [
    "# Plotagem dos resultados com resíduos\n",
    "plt.scatter(x_dados, y_dados, s=20, c='black', label=\"Dados da tabela\", zorder=3)\n",
    "plt.plot(x_, f(x_), c='blue', label=\"Função ajustada\", zorder=3)\n",
    "plt.grid(True, color = 'lightgrey', linewidth = '0.5', zorder=0)\n",
    "plt.vlines(x_dados,y_dados,y_dados-r, color='red', label=\"Resíduos\", linestyles='--')\n",
    "\n",
    "plt.xlabel(\"$x$\")\n",
    "plt.ylabel(\"$y$\")\n",
    "\n",
    "plt.legend()"
   ]
  },
  {
   "cell_type": "markdown",
   "metadata": {},
   "source": [
    "🤖 By: @gabrielhmorais"
   ]
  }
 ],
 "metadata": {
  "interpreter": {
   "hash": "4ce0e62306dd6a5716965d4519ada776f947e6dfc145b604b11307c10277ef29"
  },
  "kernelspec": {
   "display_name": "Python 3.10.2 64-bit",
   "language": "python",
   "name": "python3"
  },
  "language_info": {
   "codemirror_mode": {
    "name": "ipython",
    "version": 3
   },
   "file_extension": ".py",
   "mimetype": "text/x-python",
   "name": "python",
   "nbconvert_exporter": "python",
   "pygments_lexer": "ipython3",
   "version": "3.10.2"
  },
  "orig_nbformat": 4
 },
 "nbformat": 4,
 "nbformat_minor": 2
}
