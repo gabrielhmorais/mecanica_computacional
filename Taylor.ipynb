{
 "cells": [
  {
   "cell_type": "markdown",
   "metadata": {},
   "source": [
    "# Método dos Míninos Quadrados"
   ]
  },
  {
   "cell_type": "code",
   "execution_count": null,
   "metadata": {},
   "outputs": [],
   "source": [
    "# ⚠️ Se der erro de importação, fazer um pip install pra instalar a biblioteca no kernel no notebook\n",
    "import matplotlib.pyplot as plt\n",
    "import sympy as sp\n",
    "import numpy as np\n",
    "\n",
    "x, h = sp.symbols('x, h')"
   ]
  },
  {
   "cell_type": "markdown",
   "metadata": {},
   "source": [
    "### ✏️ Células editáveis"
   ]
  },
  {
   "cell_type": "code",
   "execution_count": null,
   "metadata": {},
   "outputs": [],
   "source": [
    "# 🏷️ Função \n",
    "funcao = -0.1*x**4 -0.15*x**3 -0.5*x**2 - 0.25*x + 1.2\n",
    "\n",
    "# 🏷️ Ponto inicial do intervalo\n",
    "x_i = 0\n",
    "\n",
    "# 🏷️ Ponto final do intervalo\n",
    "x_f = 1\n",
    "\n",
    "# 🏷️ Ordem do polinômio\n",
    "n = 2\n",
    "\n"
   ]
  },
  {
   "cell_type": "markdown",
   "metadata": {},
   "source": [
    "### 🧮 Cálculos"
   ]
  },
  {
   "cell_type": "code",
   "execution_count": null,
   "metadata": {},
   "outputs": [],
   "source": [
    "# Cálculo do valor exato de f(x_f)\n",
    "valor_real = funcao.evalf(subs={x: x_f})\n",
    "\n",
    "print(f'Valor exato de f({x_f})')\n",
    "valor_real\n"
   ]
  },
  {
   "cell_type": "code",
   "execution_count": null,
   "metadata": {},
   "outputs": [],
   "source": [
    "# Derivadas para série de Taylor\n",
    "for i in range(n+1):\n",
    "    print(f'\\n Derivada de ordem {i} da função dada')\n",
    "    print(funcao.diff(x, i))"
   ]
  },
  {
   "cell_type": "code",
   "execution_count": null,
   "metadata": {},
   "outputs": [],
   "source": [
    "# Cálculo das derivadas em x_i para série de Taylor\n",
    "for i in range(n+1):\n",
    "    print(f'\\n Derivada de ordem {i} avaliada em x = {x_i}')\n",
    "    print(funcao.diff(x, i).evalf(subs={x: x_i}))"
   ]
  },
  {
   "cell_type": "code",
   "execution_count": null,
   "metadata": {},
   "outputs": [],
   "source": [
    "# Cálculo dos termos da série de Taylor\n",
    "for i in range(n+1):\n",
    "    print(f'\\n Termo de ordem {i} da série de Taylor')\n",
    "    print(funcao.diff(x, i).evalf(subs={x: x_i})/sp.factorial(i))"
   ]
  },
  {
   "cell_type": "code",
   "execution_count": null,
   "metadata": {},
   "outputs": [],
   "source": [
    "# Série de Taylor truncada na ordem n para os valores especificado\n",
    "S = sp.series(funcao, x, x_i, (n+1))\n",
    "\n",
    "print(f'Série de Taylor truncada na ordem {n} a partir de x = {x_i}')\n",
    "S"
   ]
  },
  {
   "cell_type": "code",
   "execution_count": null,
   "metadata": {},
   "outputs": [],
   "source": [
    "# Avaliação de f(x_f) usando o Polinômio de Taylor de ordem n\n",
    "P = S.removeO()\n",
    "aprox = P.evalf(subs={x: x_f})\n",
    "\n",
    "print(f'Aproximação de f({x_f}) usando o polinômio de Taylor de ordem {n} a partir de x = {x_i}')\n",
    "aprox"
   ]
  },
  {
   "cell_type": "markdown",
   "metadata": {},
   "source": [
    "### 📊 Resultados"
   ]
  },
  {
   "cell_type": "code",
   "execution_count": null,
   "metadata": {},
   "outputs": [],
   "source": [
    "# Erro absoluto\n",
    "erro_abs = abs(valor_real - aprox)\n",
    "\n",
    "print('Erro absoluto')\n",
    "erro_abs"
   ]
  },
  {
   "cell_type": "code",
   "execution_count": null,
   "metadata": {},
   "outputs": [],
   "source": [
    "# Erro relativo\n",
    "erro_rel = abs(valor_real - aprox)/valor_real\n",
    "\n",
    "print('Erro relativo')\n",
    "erro_rel"
   ]
  },
  {
   "cell_type": "code",
   "execution_count": null,
   "metadata": {},
   "outputs": [],
   "source": [
    "# Plotagem dos resultados\n",
    "x_ = np.linspace(x_i, x_f, 100)\n",
    "funcao_lam = sp.lambdify(x, funcao)\n",
    "taylor_lam = sp.lambdify(x, P)\n",
    "\n",
    "plt.plot(x_, funcao_lam(x_), c='black', label=\"Função real\", zorder=3)\n",
    "plt.plot(x_, taylor_lam(x_), c='blue', label=f\"Polinômio de Taylor de ordem {n}\", zorder=3)\n",
    "plt.grid(True, color = 'lightgrey', linewidth = '0.5', zorder=0)\n",
    "\n",
    "plt.xlabel(\"$x$\")\n",
    "plt.ylabel(\"$f(x)$\")\n",
    "\n",
    "plt.legend()"
   ]
  },
  {
   "cell_type": "code",
   "execution_count": null,
   "metadata": {},
   "outputs": [],
   "source": [
    "# Plotagem dos resultados com erro absoluto \n",
    "plt.plot(x_, funcao_lam(x_), c='black', label=\"Função real\", zorder=3)\n",
    "plt.plot(x_, taylor_lam(x_), c='blue', label=f\"Polinômio de Taylor de ordem {n}\", zorder=3)\n",
    "plt.grid(True, color = 'lightgrey', linewidth = '0.5', zorder=0)\n",
    "plt.vlines(x_f,funcao_lam(x_f),funcao_lam(x_f)+abs(funcao_lam(x_f)-taylor_lam(x_f)), color='red', label=\"Erro absoluto\", linestyles='--')\n",
    "\n",
    "plt.xlabel(\"$x$\")\n",
    "plt.ylabel(\"$f(x)$\")\n",
    "\n",
    "plt.legend()"
   ]
  }
 ],
 "metadata": {
  "interpreter": {
   "hash": "4ce0e62306dd6a5716965d4519ada776f947e6dfc145b604b11307c10277ef29"
  },
  "kernelspec": {
   "display_name": "Python 3.10.2 64-bit",
   "language": "python",
   "name": "python3"
  },
  "language_info": {
   "codemirror_mode": {
    "name": "ipython",
    "version": 3
   },
   "file_extension": ".py",
   "mimetype": "text/x-python",
   "name": "python",
   "nbconvert_exporter": "python",
   "pygments_lexer": "ipython3",
   "version": "3.10.2"
  },
  "orig_nbformat": 4
 },
 "nbformat": 4,
 "nbformat_minor": 2
}
